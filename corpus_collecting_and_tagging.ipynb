{
  "nbformat": 4,
  "nbformat_minor": 0,
  "metadata": {
    "colab": {
      "provenance": []
    },
    "kernelspec": {
      "name": "python3",
      "display_name": "Python 3"
    },
    "language_info": {
      "name": "python"
    },
    "widgets": {
      "application/vnd.jupyter.widget-state+json": {
        "1a798b968df54f408747638fc3f93d25": {
          "model_module": "@jupyter-widgets/controls",
          "model_name": "HBoxModel",
          "model_module_version": "1.5.0",
          "state": {
            "_dom_classes": [],
            "_model_module": "@jupyter-widgets/controls",
            "_model_module_version": "1.5.0",
            "_model_name": "HBoxModel",
            "_view_count": null,
            "_view_module": "@jupyter-widgets/controls",
            "_view_module_version": "1.5.0",
            "_view_name": "HBoxView",
            "box_style": "",
            "children": [
              "IPY_MODEL_e5128ae9be504ad29e36cf13d264a323",
              "IPY_MODEL_098295b0b72d417bbf483cadff6fc230",
              "IPY_MODEL_d4ea628f4dc94e7dad6f5a44ea174c8f"
            ],
            "layout": "IPY_MODEL_3c4dc39d82444b78b79222ecb230855f"
          }
        },
        "e5128ae9be504ad29e36cf13d264a323": {
          "model_module": "@jupyter-widgets/controls",
          "model_name": "HTMLModel",
          "model_module_version": "1.5.0",
          "state": {
            "_dom_classes": [],
            "_model_module": "@jupyter-widgets/controls",
            "_model_module_version": "1.5.0",
            "_model_name": "HTMLModel",
            "_view_count": null,
            "_view_module": "@jupyter-widgets/controls",
            "_view_module_version": "1.5.0",
            "_view_name": "HTMLView",
            "description": "",
            "description_tooltip": null,
            "layout": "IPY_MODEL_14350f354c1a4d38a0e2636173c66eeb",
            "placeholder": "​",
            "style": "IPY_MODEL_d90498659e624789883898a72a07f505",
            "value": "Ссылок обработано: 100%"
          }
        },
        "098295b0b72d417bbf483cadff6fc230": {
          "model_module": "@jupyter-widgets/controls",
          "model_name": "FloatProgressModel",
          "model_module_version": "1.5.0",
          "state": {
            "_dom_classes": [],
            "_model_module": "@jupyter-widgets/controls",
            "_model_module_version": "1.5.0",
            "_model_name": "FloatProgressModel",
            "_view_count": null,
            "_view_module": "@jupyter-widgets/controls",
            "_view_module_version": "1.5.0",
            "_view_name": "ProgressView",
            "bar_style": "",
            "description": "",
            "description_tooltip": null,
            "layout": "IPY_MODEL_988e9b3aade14a2a8cadeb4de8f45847",
            "max": 233,
            "min": 0,
            "orientation": "horizontal",
            "style": "IPY_MODEL_40400b363a814513a4272a263de1848f",
            "value": 233
          }
        },
        "d4ea628f4dc94e7dad6f5a44ea174c8f": {
          "model_module": "@jupyter-widgets/controls",
          "model_name": "HTMLModel",
          "model_module_version": "1.5.0",
          "state": {
            "_dom_classes": [],
            "_model_module": "@jupyter-widgets/controls",
            "_model_module_version": "1.5.0",
            "_model_name": "HTMLModel",
            "_view_count": null,
            "_view_module": "@jupyter-widgets/controls",
            "_view_module_version": "1.5.0",
            "_view_name": "HTMLView",
            "description": "",
            "description_tooltip": null,
            "layout": "IPY_MODEL_4fda6692596940ee92c2f2c6afe24265",
            "placeholder": "​",
            "style": "IPY_MODEL_ec43307f7a4540d490c346cc89b33355",
            "value": " 233/233 [19:28&lt;00:00,  5.02s/it]"
          }
        },
        "3c4dc39d82444b78b79222ecb230855f": {
          "model_module": "@jupyter-widgets/base",
          "model_name": "LayoutModel",
          "model_module_version": "1.2.0",
          "state": {
            "_model_module": "@jupyter-widgets/base",
            "_model_module_version": "1.2.0",
            "_model_name": "LayoutModel",
            "_view_count": null,
            "_view_module": "@jupyter-widgets/base",
            "_view_module_version": "1.2.0",
            "_view_name": "LayoutView",
            "align_content": null,
            "align_items": null,
            "align_self": null,
            "border": null,
            "bottom": null,
            "display": null,
            "flex": null,
            "flex_flow": null,
            "grid_area": null,
            "grid_auto_columns": null,
            "grid_auto_flow": null,
            "grid_auto_rows": null,
            "grid_column": null,
            "grid_gap": null,
            "grid_row": null,
            "grid_template_areas": null,
            "grid_template_columns": null,
            "grid_template_rows": null,
            "height": null,
            "justify_content": null,
            "justify_items": null,
            "left": null,
            "margin": null,
            "max_height": null,
            "max_width": null,
            "min_height": null,
            "min_width": null,
            "object_fit": null,
            "object_position": null,
            "order": null,
            "overflow": null,
            "overflow_x": null,
            "overflow_y": null,
            "padding": null,
            "right": null,
            "top": null,
            "visibility": null,
            "width": null
          }
        },
        "14350f354c1a4d38a0e2636173c66eeb": {
          "model_module": "@jupyter-widgets/base",
          "model_name": "LayoutModel",
          "model_module_version": "1.2.0",
          "state": {
            "_model_module": "@jupyter-widgets/base",
            "_model_module_version": "1.2.0",
            "_model_name": "LayoutModel",
            "_view_count": null,
            "_view_module": "@jupyter-widgets/base",
            "_view_module_version": "1.2.0",
            "_view_name": "LayoutView",
            "align_content": null,
            "align_items": null,
            "align_self": null,
            "border": null,
            "bottom": null,
            "display": null,
            "flex": null,
            "flex_flow": null,
            "grid_area": null,
            "grid_auto_columns": null,
            "grid_auto_flow": null,
            "grid_auto_rows": null,
            "grid_column": null,
            "grid_gap": null,
            "grid_row": null,
            "grid_template_areas": null,
            "grid_template_columns": null,
            "grid_template_rows": null,
            "height": null,
            "justify_content": null,
            "justify_items": null,
            "left": null,
            "margin": null,
            "max_height": null,
            "max_width": null,
            "min_height": null,
            "min_width": null,
            "object_fit": null,
            "object_position": null,
            "order": null,
            "overflow": null,
            "overflow_x": null,
            "overflow_y": null,
            "padding": null,
            "right": null,
            "top": null,
            "visibility": null,
            "width": null
          }
        },
        "d90498659e624789883898a72a07f505": {
          "model_module": "@jupyter-widgets/controls",
          "model_name": "DescriptionStyleModel",
          "model_module_version": "1.5.0",
          "state": {
            "_model_module": "@jupyter-widgets/controls",
            "_model_module_version": "1.5.0",
            "_model_name": "DescriptionStyleModel",
            "_view_count": null,
            "_view_module": "@jupyter-widgets/base",
            "_view_module_version": "1.2.0",
            "_view_name": "StyleView",
            "description_width": ""
          }
        },
        "988e9b3aade14a2a8cadeb4de8f45847": {
          "model_module": "@jupyter-widgets/base",
          "model_name": "LayoutModel",
          "model_module_version": "1.2.0",
          "state": {
            "_model_module": "@jupyter-widgets/base",
            "_model_module_version": "1.2.0",
            "_model_name": "LayoutModel",
            "_view_count": null,
            "_view_module": "@jupyter-widgets/base",
            "_view_module_version": "1.2.0",
            "_view_name": "LayoutView",
            "align_content": null,
            "align_items": null,
            "align_self": null,
            "border": null,
            "bottom": null,
            "display": null,
            "flex": null,
            "flex_flow": null,
            "grid_area": null,
            "grid_auto_columns": null,
            "grid_auto_flow": null,
            "grid_auto_rows": null,
            "grid_column": null,
            "grid_gap": null,
            "grid_row": null,
            "grid_template_areas": null,
            "grid_template_columns": null,
            "grid_template_rows": null,
            "height": null,
            "justify_content": null,
            "justify_items": null,
            "left": null,
            "margin": null,
            "max_height": null,
            "max_width": null,
            "min_height": null,
            "min_width": null,
            "object_fit": null,
            "object_position": null,
            "order": null,
            "overflow": null,
            "overflow_x": null,
            "overflow_y": null,
            "padding": null,
            "right": null,
            "top": null,
            "visibility": null,
            "width": null
          }
        },
        "40400b363a814513a4272a263de1848f": {
          "model_module": "@jupyter-widgets/controls",
          "model_name": "ProgressStyleModel",
          "model_module_version": "1.5.0",
          "state": {
            "_model_module": "@jupyter-widgets/controls",
            "_model_module_version": "1.5.0",
            "_model_name": "ProgressStyleModel",
            "_view_count": null,
            "_view_module": "@jupyter-widgets/base",
            "_view_module_version": "1.2.0",
            "_view_name": "StyleView",
            "bar_color": null,
            "description_width": ""
          }
        },
        "4fda6692596940ee92c2f2c6afe24265": {
          "model_module": "@jupyter-widgets/base",
          "model_name": "LayoutModel",
          "model_module_version": "1.2.0",
          "state": {
            "_model_module": "@jupyter-widgets/base",
            "_model_module_version": "1.2.0",
            "_model_name": "LayoutModel",
            "_view_count": null,
            "_view_module": "@jupyter-widgets/base",
            "_view_module_version": "1.2.0",
            "_view_name": "LayoutView",
            "align_content": null,
            "align_items": null,
            "align_self": null,
            "border": null,
            "bottom": null,
            "display": null,
            "flex": null,
            "flex_flow": null,
            "grid_area": null,
            "grid_auto_columns": null,
            "grid_auto_flow": null,
            "grid_auto_rows": null,
            "grid_column": null,
            "grid_gap": null,
            "grid_row": null,
            "grid_template_areas": null,
            "grid_template_columns": null,
            "grid_template_rows": null,
            "height": null,
            "justify_content": null,
            "justify_items": null,
            "left": null,
            "margin": null,
            "max_height": null,
            "max_width": null,
            "min_height": null,
            "min_width": null,
            "object_fit": null,
            "object_position": null,
            "order": null,
            "overflow": null,
            "overflow_x": null,
            "overflow_y": null,
            "padding": null,
            "right": null,
            "top": null,
            "visibility": null,
            "width": null
          }
        },
        "ec43307f7a4540d490c346cc89b33355": {
          "model_module": "@jupyter-widgets/controls",
          "model_name": "DescriptionStyleModel",
          "model_module_version": "1.5.0",
          "state": {
            "_model_module": "@jupyter-widgets/controls",
            "_model_module_version": "1.5.0",
            "_model_name": "DescriptionStyleModel",
            "_view_count": null,
            "_view_module": "@jupyter-widgets/base",
            "_view_module_version": "1.2.0",
            "_view_name": "StyleView",
            "description_width": ""
          }
        },
        "c928670b47e644feb562e9419eebf9a6": {
          "model_module": "@jupyter-widgets/controls",
          "model_name": "HBoxModel",
          "model_module_version": "1.5.0",
          "state": {
            "_dom_classes": [],
            "_model_module": "@jupyter-widgets/controls",
            "_model_module_version": "1.5.0",
            "_model_name": "HBoxModel",
            "_view_count": null,
            "_view_module": "@jupyter-widgets/controls",
            "_view_module_version": "1.5.0",
            "_view_name": "HBoxView",
            "box_style": "",
            "children": [
              "IPY_MODEL_cb24f85b688c4fa0b86e3071e9736e73",
              "IPY_MODEL_4732563504854752a92eedf639fa7b7c",
              "IPY_MODEL_9b6f3aec82ef4f0d8f0e366012c1f516"
            ],
            "layout": "IPY_MODEL_7574898d5beb4f21a66b93145d846f4f"
          }
        },
        "cb24f85b688c4fa0b86e3071e9736e73": {
          "model_module": "@jupyter-widgets/controls",
          "model_name": "HTMLModel",
          "model_module_version": "1.5.0",
          "state": {
            "_dom_classes": [],
            "_model_module": "@jupyter-widgets/controls",
            "_model_module_version": "1.5.0",
            "_model_name": "HTMLModel",
            "_view_count": null,
            "_view_module": "@jupyter-widgets/controls",
            "_view_module_version": "1.5.0",
            "_view_name": "HTMLView",
            "description": "",
            "description_tooltip": null,
            "layout": "IPY_MODEL_ad4f94a5a10844a6826f6c6bc95c9236",
            "placeholder": "​",
            "style": "IPY_MODEL_ad21e594a25d4d279b064b9f438cb385",
            "value": "Цитат размечено: 100%"
          }
        },
        "4732563504854752a92eedf639fa7b7c": {
          "model_module": "@jupyter-widgets/controls",
          "model_name": "FloatProgressModel",
          "model_module_version": "1.5.0",
          "state": {
            "_dom_classes": [],
            "_model_module": "@jupyter-widgets/controls",
            "_model_module_version": "1.5.0",
            "_model_name": "FloatProgressModel",
            "_view_count": null,
            "_view_module": "@jupyter-widgets/controls",
            "_view_module_version": "1.5.0",
            "_view_name": "ProgressView",
            "bar_style": "",
            "description": "",
            "description_tooltip": null,
            "layout": "IPY_MODEL_f0d3fd1964044425829ef22902df8a30",
            "max": 1030,
            "min": 0,
            "orientation": "horizontal",
            "style": "IPY_MODEL_609cc0a06db942b297a404aa5abd946a",
            "value": 1030
          }
        },
        "9b6f3aec82ef4f0d8f0e366012c1f516": {
          "model_module": "@jupyter-widgets/controls",
          "model_name": "HTMLModel",
          "model_module_version": "1.5.0",
          "state": {
            "_dom_classes": [],
            "_model_module": "@jupyter-widgets/controls",
            "_model_module_version": "1.5.0",
            "_model_name": "HTMLModel",
            "_view_count": null,
            "_view_module": "@jupyter-widgets/controls",
            "_view_module_version": "1.5.0",
            "_view_name": "HTMLView",
            "description": "",
            "description_tooltip": null,
            "layout": "IPY_MODEL_2cefc7c0af7e4278a71277dd5a268bae",
            "placeholder": "​",
            "style": "IPY_MODEL_e4f055ce937e404b8eb7fac9e13ac640",
            "value": " 1030/1030 [00:42&lt;00:00, 39.43it/s]"
          }
        },
        "7574898d5beb4f21a66b93145d846f4f": {
          "model_module": "@jupyter-widgets/base",
          "model_name": "LayoutModel",
          "model_module_version": "1.2.0",
          "state": {
            "_model_module": "@jupyter-widgets/base",
            "_model_module_version": "1.2.0",
            "_model_name": "LayoutModel",
            "_view_count": null,
            "_view_module": "@jupyter-widgets/base",
            "_view_module_version": "1.2.0",
            "_view_name": "LayoutView",
            "align_content": null,
            "align_items": null,
            "align_self": null,
            "border": null,
            "bottom": null,
            "display": null,
            "flex": null,
            "flex_flow": null,
            "grid_area": null,
            "grid_auto_columns": null,
            "grid_auto_flow": null,
            "grid_auto_rows": null,
            "grid_column": null,
            "grid_gap": null,
            "grid_row": null,
            "grid_template_areas": null,
            "grid_template_columns": null,
            "grid_template_rows": null,
            "height": null,
            "justify_content": null,
            "justify_items": null,
            "left": null,
            "margin": null,
            "max_height": null,
            "max_width": null,
            "min_height": null,
            "min_width": null,
            "object_fit": null,
            "object_position": null,
            "order": null,
            "overflow": null,
            "overflow_x": null,
            "overflow_y": null,
            "padding": null,
            "right": null,
            "top": null,
            "visibility": null,
            "width": null
          }
        },
        "ad4f94a5a10844a6826f6c6bc95c9236": {
          "model_module": "@jupyter-widgets/base",
          "model_name": "LayoutModel",
          "model_module_version": "1.2.0",
          "state": {
            "_model_module": "@jupyter-widgets/base",
            "_model_module_version": "1.2.0",
            "_model_name": "LayoutModel",
            "_view_count": null,
            "_view_module": "@jupyter-widgets/base",
            "_view_module_version": "1.2.0",
            "_view_name": "LayoutView",
            "align_content": null,
            "align_items": null,
            "align_self": null,
            "border": null,
            "bottom": null,
            "display": null,
            "flex": null,
            "flex_flow": null,
            "grid_area": null,
            "grid_auto_columns": null,
            "grid_auto_flow": null,
            "grid_auto_rows": null,
            "grid_column": null,
            "grid_gap": null,
            "grid_row": null,
            "grid_template_areas": null,
            "grid_template_columns": null,
            "grid_template_rows": null,
            "height": null,
            "justify_content": null,
            "justify_items": null,
            "left": null,
            "margin": null,
            "max_height": null,
            "max_width": null,
            "min_height": null,
            "min_width": null,
            "object_fit": null,
            "object_position": null,
            "order": null,
            "overflow": null,
            "overflow_x": null,
            "overflow_y": null,
            "padding": null,
            "right": null,
            "top": null,
            "visibility": null,
            "width": null
          }
        },
        "ad21e594a25d4d279b064b9f438cb385": {
          "model_module": "@jupyter-widgets/controls",
          "model_name": "DescriptionStyleModel",
          "model_module_version": "1.5.0",
          "state": {
            "_model_module": "@jupyter-widgets/controls",
            "_model_module_version": "1.5.0",
            "_model_name": "DescriptionStyleModel",
            "_view_count": null,
            "_view_module": "@jupyter-widgets/base",
            "_view_module_version": "1.2.0",
            "_view_name": "StyleView",
            "description_width": ""
          }
        },
        "f0d3fd1964044425829ef22902df8a30": {
          "model_module": "@jupyter-widgets/base",
          "model_name": "LayoutModel",
          "model_module_version": "1.2.0",
          "state": {
            "_model_module": "@jupyter-widgets/base",
            "_model_module_version": "1.2.0",
            "_model_name": "LayoutModel",
            "_view_count": null,
            "_view_module": "@jupyter-widgets/base",
            "_view_module_version": "1.2.0",
            "_view_name": "LayoutView",
            "align_content": null,
            "align_items": null,
            "align_self": null,
            "border": null,
            "bottom": null,
            "display": null,
            "flex": null,
            "flex_flow": null,
            "grid_area": null,
            "grid_auto_columns": null,
            "grid_auto_flow": null,
            "grid_auto_rows": null,
            "grid_column": null,
            "grid_gap": null,
            "grid_row": null,
            "grid_template_areas": null,
            "grid_template_columns": null,
            "grid_template_rows": null,
            "height": null,
            "justify_content": null,
            "justify_items": null,
            "left": null,
            "margin": null,
            "max_height": null,
            "max_width": null,
            "min_height": null,
            "min_width": null,
            "object_fit": null,
            "object_position": null,
            "order": null,
            "overflow": null,
            "overflow_x": null,
            "overflow_y": null,
            "padding": null,
            "right": null,
            "top": null,
            "visibility": null,
            "width": null
          }
        },
        "609cc0a06db942b297a404aa5abd946a": {
          "model_module": "@jupyter-widgets/controls",
          "model_name": "ProgressStyleModel",
          "model_module_version": "1.5.0",
          "state": {
            "_model_module": "@jupyter-widgets/controls",
            "_model_module_version": "1.5.0",
            "_model_name": "ProgressStyleModel",
            "_view_count": null,
            "_view_module": "@jupyter-widgets/base",
            "_view_module_version": "1.2.0",
            "_view_name": "StyleView",
            "bar_color": null,
            "description_width": ""
          }
        },
        "2cefc7c0af7e4278a71277dd5a268bae": {
          "model_module": "@jupyter-widgets/base",
          "model_name": "LayoutModel",
          "model_module_version": "1.2.0",
          "state": {
            "_model_module": "@jupyter-widgets/base",
            "_model_module_version": "1.2.0",
            "_model_name": "LayoutModel",
            "_view_count": null,
            "_view_module": "@jupyter-widgets/base",
            "_view_module_version": "1.2.0",
            "_view_name": "LayoutView",
            "align_content": null,
            "align_items": null,
            "align_self": null,
            "border": null,
            "bottom": null,
            "display": null,
            "flex": null,
            "flex_flow": null,
            "grid_area": null,
            "grid_auto_columns": null,
            "grid_auto_flow": null,
            "grid_auto_rows": null,
            "grid_column": null,
            "grid_gap": null,
            "grid_row": null,
            "grid_template_areas": null,
            "grid_template_columns": null,
            "grid_template_rows": null,
            "height": null,
            "justify_content": null,
            "justify_items": null,
            "left": null,
            "margin": null,
            "max_height": null,
            "max_width": null,
            "min_height": null,
            "min_width": null,
            "object_fit": null,
            "object_position": null,
            "order": null,
            "overflow": null,
            "overflow_x": null,
            "overflow_y": null,
            "padding": null,
            "right": null,
            "top": null,
            "visibility": null,
            "width": null
          }
        },
        "e4f055ce937e404b8eb7fac9e13ac640": {
          "model_module": "@jupyter-widgets/controls",
          "model_name": "DescriptionStyleModel",
          "model_module_version": "1.5.0",
          "state": {
            "_model_module": "@jupyter-widgets/controls",
            "_model_module_version": "1.5.0",
            "_model_name": "DescriptionStyleModel",
            "_view_count": null,
            "_view_module": "@jupyter-widgets/base",
            "_view_module_version": "1.2.0",
            "_view_name": "StyleView",
            "description_width": ""
          }
        }
      }
    }
  },
  "cells": [
    {
      "cell_type": "markdown",
      "source": [
        "##1. Сбор корпуса"
      ],
      "metadata": {
        "id": "5lqCx4EHS21Z"
      }
    },
    {
      "cell_type": "markdown",
      "source": [
        "Импортируем нужные библиотеки"
      ],
      "metadata": {
        "id": "dXiA2doqTAIM"
      }
    },
    {
      "cell_type": "code",
      "execution_count": null,
      "metadata": {
        "id": "dLvbNPI-GSFf",
        "colab": {
          "base_uri": "https://localhost:8080/"
        },
        "outputId": "97aafc08-ad01-44bf-cc32-7dfa1a605482"
      },
      "outputs": [
        {
          "output_type": "stream",
          "name": "stdout",
          "text": [
            "Requirement already satisfied: fake_useragent in /usr/local/lib/python3.10/dist-packages (1.5.1)\n"
          ]
        }
      ],
      "source": [
        "!pip install fake_useragent"
      ]
    },
    {
      "cell_type": "code",
      "source": [
        "import requests\n",
        "\n",
        "import time\n",
        "from datetime import datetime\n",
        "\n",
        "from fake_useragent import UserAgent\n",
        "\n",
        "import re\n",
        "\n",
        "import random\n",
        "\n",
        "from bs4 import BeautifulSoup\n",
        "\n",
        "from tqdm.auto import tqdm"
      ],
      "metadata": {
        "id": "6G3qDu5SwkTC"
      },
      "execution_count": null,
      "outputs": []
    },
    {
      "cell_type": "code",
      "source": [
        "session = requests.session()\n",
        "ua = UserAgent()"
      ],
      "metadata": {
        "id": "QKPQEESNyPOf"
      },
      "execution_count": null,
      "outputs": []
    },
    {
      "cell_type": "markdown",
      "source": [
        "Собираем ссылки на стаьи о сериях"
      ],
      "metadata": {
        "id": "dEn7hp1ztnyz"
      }
    },
    {
      "cell_type": "code",
      "source": [
        "req = session.get('https://losyash-library.fandom.com/ru/wiki/%D0%A1%D0%BC%D0%B5%D1%88%D0%B0%D1%80%D0%B8%D0%BA%D0%B8_(%D0%BC%D1%83%D0%BB%D1%8C%D1%82%D1%81%D0%B5%D1%80%D0%B8%D0%B0%D0%BB)')\n",
        "page = req.text\n",
        "soup = BeautifulSoup(page, 'html.parser')\n",
        "links = soup.find_all('a')\n",
        "episodes = []\n",
        "for link in links:\n",
        "  if 'href' in link.attrs.keys():\n",
        "    episodes.append(link.attrs['href'])"
      ],
      "metadata": {
        "id": "9c12pdzfwkSU"
      },
      "execution_count": null,
      "outputs": []
    },
    {
      "cell_type": "markdown",
      "source": [
        "Оставляем только нужные"
      ],
      "metadata": {
        "id": "pt7grsvttvj-"
      }
    },
    {
      "cell_type": "code",
      "source": [
        "eps_list = []\n",
        "for episode in episodes:\n",
        "  if episode[:9] == '/ru/wiki/' and not re.search(r'_\\d+\\._', episode):\n",
        "    eps_list.append('https://losyash-library.fandom.com' + episode)"
      ],
      "metadata": {
        "id": "GMiXEpdS-vO6"
      },
      "execution_count": null,
      "outputs": []
    },
    {
      "cell_type": "markdown",
      "source": [
        "Парсинг страницы с цитатами"
      ],
      "metadata": {
        "id": "0lR6kbfPTm-p"
      }
    },
    {
      "cell_type": "code",
      "source": [
        "def get_quotes(ep_url):\n",
        "    req = session.get(ep_url)\n",
        "    page = req.text\n",
        "    soup = BeautifulSoup(page, 'html.parser')\n",
        "    allquotes = soup.find_all('table', {'style': 'margin:auto; border-collapse:collapse; background-color:transparent; border-style:none;'})\n",
        "    if len(allquotes):\n",
        "      try:\n",
        "        eptitle = soup.title.text.split(' | ')[0]\n",
        "      except Exception as e:\n",
        "        eptitle = soup.title.text\n",
        "      epquotes = [eptitle]\n",
        "      for quote in allquotes:\n",
        "        epquotes.append(quote.text)\n",
        "      return epquotes\n",
        "    return False"
      ],
      "metadata": {
        "id": "lXKLvFvxFBCa"
      },
      "execution_count": null,
      "outputs": []
    },
    {
      "cell_type": "code",
      "source": [
        "episodes = []\n",
        "links_counter = tqdm(total=len(eps_list), desc='Ссылок обработано')\n",
        "for i in range(len(eps_list)):\n",
        "  theepquotes = get_quotes(eps_list[i])\n",
        "  if theepquotes:\n",
        "    episodes.append(theepquotes)\n",
        "  links_counter.update(1)\n",
        "  time.sleep(random.uniform(3.9, 5.1))"
      ],
      "metadata": {
        "id": "RbjJKzcyxqK_",
        "colab": {
          "base_uri": "https://localhost:8080/",
          "height": 49,
          "referenced_widgets": [
            "1a798b968df54f408747638fc3f93d25",
            "e5128ae9be504ad29e36cf13d264a323",
            "098295b0b72d417bbf483cadff6fc230",
            "d4ea628f4dc94e7dad6f5a44ea174c8f",
            "3c4dc39d82444b78b79222ecb230855f",
            "14350f354c1a4d38a0e2636173c66eeb",
            "d90498659e624789883898a72a07f505",
            "988e9b3aade14a2a8cadeb4de8f45847",
            "40400b363a814513a4272a263de1848f",
            "4fda6692596940ee92c2f2c6afe24265",
            "ec43307f7a4540d490c346cc89b33355"
          ]
        },
        "outputId": "071c8c4e-547a-483c-c37f-7ae8c62340bc"
      },
      "execution_count": null,
      "outputs": [
        {
          "output_type": "display_data",
          "data": {
            "text/plain": [
              "Ссылок обработано:   0%|          | 0/233 [00:00<?, ?it/s]"
            ],
            "application/vnd.jupyter.widget-view+json": {
              "version_major": 2,
              "version_minor": 0,
              "model_id": "1a798b968df54f408747638fc3f93d25"
            }
          },
          "metadata": {}
        }
      ]
    },
    {
      "cell_type": "markdown",
      "source": [
        "Заменяем подстроки, которые ломают деление на фразы"
      ],
      "metadata": {
        "id": "ptwZFS8IuQow"
      }
    },
    {
      "cell_type": "code",
      "source": [
        "replacements = [['Бараш (Нюше):', 'Бараш:'],\n",
        "['Бараш (Ёжику):', 'Бараш:'],\n",
        " ['Крош (видит бочки):', 'Крош:'],\n",
        " ['Ёжик (Крошу):', 'Ёжик:'],\n",
        " ['Крош; Смотри, ты шёл со скоростью… беспечного ёжика.Ёжик:', 'Крош: Смотри, ты шёл со скоростью… беспечного ёжика.Ёжик:'],\n",
        " ['Кар-Карыч (Нюше в костюме Бараша):', 'Кар-Карыч:'],\n",
        " ['Крош А что это такое?Копатыч:', 'Крош: А что это такое?Копатыч:'],\n",
        " ['Нюша Выбить пыль, не нарушая поверхности ворса.Крош:', 'Нюша: Выбить пыль, не нарушая поверхности ворса.Крош:'],\n",
        " ['Крош Копатычу:', 'Крош:'],\n",
        " [' :', ':'], [':К', ': К'], [':У', ': У'], [':Т', ': Т'],\n",
        " ['Но в целом мы далеко не идальныеКрош', 'но в целом мы далеко не идальные.Крош'],\n",
        " ['Бесполезно, он захлопнулсяЛосяш', 'бесполезно, он захлопнулся.Лосяш'],\n",
        " ['Чем больше в лабиринте тупичков, тем он сложней и интереснейКопатыч','чем больше в лабиринте тупичков, тем он сложней и интересней.Копатыч'],\n",
        " ['Ну так, Бараш, конечно:', 'ну так, Бараш, конечно — '],\n",
        " ['Потребляйт дрова, превращает их в энергия, и пожалуйста:',\n",
        "  'потребляйт дрова, превращает их в энергия, и пожалуйста — '],\n",
        " ['Так и запишем:', 'так и запишем — '],\n",
        " ['Она сидит там одна, переживает, думает:',\n",
        "  'она сидит там одна, переживает, думает — '],\n",
        " ['Ну, первое и основное:', 'ну, первое и основное — '],\n",
        " ['Едешь в вагоне:', 'едешь в вагоне — '],\n",
        " ['И Крош подумал:', 'и Крош подумал — '],\n",
        " ['К тому же можно спокойно смотреть по сторонам:',\n",
        "  'к тому же можно спокойно смотреть по сторонам — '],\n",
        " ['Например, говорить слова наоборот:',\n",
        "  'например, говорить слова наоборот — '],\n",
        " ['Ну, например:', 'ну, например — '],\n",
        " ['Посмотрел на пирамидку - и сразу же мысль:',\n",
        "  'посмотрел на пирамидку - и сразу же мысль — '],\n",
        " ['Так вот, чтобы исправить:', 'так вот, чтобы исправить — '],\n",
        " ['Я же говорил:', 'я же говорил — '],\n",
        " ['Но ты не беспокойся:', 'но ты не беспокойся — '],\n",
        " ['Вижу:', 'вижу — '],\n",
        " ['Повторяю:', 'повторяю — '],\n",
        " ['Нет, ты только подумай:', 'нет, ты только подумай — '],\n",
        " ['Душа у меня разрывается, душечка, не знаю прямо, что завтра делать:',\n",
        "  'душа у меня разрывается, душечка, не знаю прямо, что завтра делать — '],\n",
        " ['Сбегайте кто-нибудь за приказчиком, от вас, я вижу, толку мало:',\n",
        "  'сбегайте кто-нибудь за приказчиком, от вас, я вижу, толку мало — '],\n",
        " ['Но ничего:', 'но ничего — '],\n",
        " ['Это ты:', 'это ты — '],\n",
        " ['Да не так уж много всего вокруг:', 'да не так уж много всего вокруг — '],\n",
        " ['Посмотри на себя:', 'посмотри на себя — '],\n",
        " ['Давай так:', 'давай так — '],\n",
        " ['Я ему это объясняю, а он не понимает, говорит:',\n",
        "  'я ему это объясняю, а он не понимает, говорит — '],\n",
        " ['Послушай меня:', 'послушай меня — '],\n",
        " ['Ты, кстати, можешь радоваться:', 'ты, кстати, можешь радоваться — '],\n",
        " ['Со мной, например, всегда так:', 'со мной, например, всегда так — '],\n",
        " ['Ёжик, если бы тебе предложили на выбор:',\n",
        "  'ёжик, если бы тебе предложили на выбор — '],\n",
        " ['Господин режиссёр, я прошу вас:', 'господин режиссёр, я прошу вас — '],\n",
        " ['Я знал одного доктора наук, ему тоже всё время говорили:',\n",
        "  'я знал одного доктора наук, ему тоже всё время говорили — '],\n",
        " ['Мы его  на дрова несём:', 'мы его  на дрова несём — '],\n",
        " ['Крош, Ёжик, у меня к вам просьба:', 'крош, Ёжик, у меня к вам просьба — '],\n",
        " ['Оказывается в мире всё время так происходит:',\n",
        "  'оказывается в мире всё время так происходит — '],\n",
        " ['Ты застудишь ноги, на ногах все нервные окончания, то есть, с ногами ты застудишь обязательно что-нибудь ещё:',\n",
        "  'ты застудишь ноги, на ногах все нервные окончания, то есть, с ногами ты застудишь обязательно что-нибудь ещё — '],\n",
        " ['Ещё бы поспорили, что лучше:', 'ещё бы поспорили, что лучше — ']]"
      ],
      "metadata": {
        "id": "RlS5I1SVeRgH"
      },
      "execution_count": null,
      "outputs": []
    },
    {
      "cell_type": "code",
      "source": [
        "for i in range(len(episodes)):\n",
        "  for j in range(1, len(episodes[i])):\n",
        "    for error in replacements:\n",
        "      if error[0] in episodes[i][j]:\n",
        "        episodes[i][j] = episodes[i][j].replace(error[0], error[1])"
      ],
      "metadata": {
        "id": "FLCylLgIhpl0"
      },
      "execution_count": null,
      "outputs": []
    },
    {
      "cell_type": "markdown",
      "source": [
        "Удалем мусор"
      ],
      "metadata": {
        "id": "Ru36bcHBuXl2"
      }
    },
    {
      "cell_type": "code",
      "source": [
        "episodes.remove(['Тайна древних сокровищ', '\\n\\n\\n\\nИзобретатель А. С. Попов\\n\\n\\n'])\n",
        "episodes.remove(['Тайна древних сокровищ', '\\n\\n\\n\\nИзобретатель А. С. Попов\\n\\n\\n'])"
      ],
      "metadata": {
        "id": "rKJ2rKFAQLPF"
      },
      "execution_count": null,
      "outputs": []
    },
    {
      "cell_type": "markdown",
      "source": [
        "Записываем собранное"
      ],
      "metadata": {
        "id": "w7ZG44ZnubzK"
      }
    },
    {
      "cell_type": "code",
      "source": [
        "with open('corpus.txt', 'w') as file:\n",
        "  for i in range(len(episodes)):\n",
        "    for j in range(len(episodes[i])):\n",
        "      file.write(episodes[i][j].strip() + '\\n')\n",
        "    file.write('\\n')"
      ],
      "metadata": {
        "id": "AjLafxauPFaq"
      },
      "execution_count": null,
      "outputs": []
    },
    {
      "cell_type": "markdown",
      "source": [
        "Создаем список токенов; всем персонажам и сериям причисляем айди, чтобы хранить его, а не целые строки"
      ],
      "metadata": {
        "id": "KSPXRp17uhfW"
      }
    },
    {
      "cell_type": "code",
      "source": [
        "text_ids = {}\n",
        "cur_id = 0\n",
        "char_ids = {}\n",
        "char_ids_map = {}\n",
        "cur_chid = 0\n",
        "dialogues = []\n",
        "for i in range(len(episodes)):\n",
        "  for j in range(1, len(episodes[i])):\n",
        "    episodes[i][j] = episodes[i][j].strip()\n",
        "    if episodes[i][0] + '_' + str(j) in text_ids.values():\n",
        "      continue\n",
        "    text_ids[cur_id] = episodes[i][0] + '_' + str(j)\n",
        "    if '— ' in episodes[i][j]:\n",
        "      quoteparams = episodes[i][j].split('— ')\n",
        "      if quoteparams[1] not in char_ids.values():\n",
        "        char_ids[cur_chid] = quoteparams[1]\n",
        "        char_ids_map[quoteparams[1]] = cur_chid\n",
        "        cur_chid = cur_chid + 1\n",
        "      dialogues.append([[quoteparams[0], cur_id, char_ids_map[quoteparams[1]]]])\n",
        "    else:\n",
        "      lines = re.findall(r\"([А-ЯЁ][а-яёА-ЯЁ\\-, ]+): +(.*?)(?=\\s*[А-ЯЁ][а-яёА-ЯЁ\\-, ]+:|$)\", episodes[i][j])\n",
        "      thisquote = []\n",
        "      for quoteparams in lines:\n",
        "        if quoteparams[0] not in char_ids.values():\n",
        "          char_ids[cur_chid] = quoteparams[0]\n",
        "          char_ids_map[quoteparams[0]] = cur_chid\n",
        "          cur_chid = cur_chid + 1\n",
        "        thisquote.append([quoteparams[1], cur_id, char_ids_map[quoteparams[0]]])\n",
        "      dialogues.append(thisquote)\n",
        "    cur_id = cur_id + 1"
      ],
      "metadata": {
        "id": "QnJmq9chl0Zb"
      },
      "execution_count": null,
      "outputs": []
    },
    {
      "cell_type": "markdown",
      "source": [
        "Записываем токены"
      ],
      "metadata": {
        "id": "AL2Ue5eevIO-"
      }
    },
    {
      "cell_type": "code",
      "source": [
        "with open('corpus_clean.txt', 'w') as file:\n",
        "  for i in range(len(dialogues)):\n",
        "    for j in range(len(dialogues[i])):\n",
        "      file.write('\\n'.join([str(elem) for elem in dialogues[i][j]]) + '\\n')\n",
        "    file.write('\\n')"
      ],
      "metadata": {
        "id": "VWGuYLimYy9P"
      },
      "execution_count": null,
      "outputs": []
    },
    {
      "cell_type": "markdown",
      "source": [
        "Записываем айди текстов"
      ],
      "metadata": {
        "id": "2d4FM2GzvK6d"
      }
    },
    {
      "cell_type": "code",
      "source": [
        "texts_towrite = list(text_ids.items())\n",
        "with open('text_ids.txt', 'w') as file:\n",
        "  for i in range(len(texts_towrite)):\n",
        "      file.write('\\t'.join([str(elem) for elem in texts_towrite[i]]) + '\\n')"
      ],
      "metadata": {
        "id": "_9ZrORiBcZSL"
      },
      "execution_count": null,
      "outputs": []
    },
    {
      "cell_type": "markdown",
      "source": [
        "Импорт спейси"
      ],
      "metadata": {
        "id": "qytkPJmAvPqQ"
      }
    },
    {
      "cell_type": "code",
      "source": [
        "!pip install spacy -q\n",
        "!python -m spacy download ru_core_news_sm -q"
      ],
      "metadata": {
        "colab": {
          "base_uri": "https://localhost:8080/"
        },
        "id": "xROSEyDVwoWR",
        "outputId": "88f4ea73-b92d-460e-fece-49e0f3d39ad7"
      },
      "execution_count": null,
      "outputs": [
        {
          "output_type": "stream",
          "name": "stdout",
          "text": [
            "\u001b[2K     \u001b[90m━━━━━━━━━━━━━━━━━━━━━━━━━━━━━━━━━━━━━━━━\u001b[0m \u001b[32m15.3/15.3 MB\u001b[0m \u001b[31m28.7 MB/s\u001b[0m eta \u001b[36m0:00:00\u001b[0m\n",
            "\u001b[2K   \u001b[90m━━━━━━━━━━━━━━━━━━━━━━━━━━━━━━━━━━━━━━━━\u001b[0m \u001b[32m53.8/53.8 kB\u001b[0m \u001b[31m1.9 MB/s\u001b[0m eta \u001b[36m0:00:00\u001b[0m\n",
            "\u001b[2K   \u001b[90m━━━━━━━━━━━━━━━━━━━━━━━━━━━━━━━━━━━━━━━━\u001b[0m \u001b[32m8.4/8.4 MB\u001b[0m \u001b[31m41.0 MB/s\u001b[0m eta \u001b[36m0:00:00\u001b[0m\n",
            "\u001b[?25h\u001b[38;5;2m✔ Download and installation successful\u001b[0m\n",
            "You can now load the package via spacy.load('ru_core_news_sm')\n",
            "\u001b[38;5;3m⚠ Restart to reload dependencies\u001b[0m\n",
            "If you are in a Jupyter or Colab notebook, you may need to restart Python in\n",
            "order to load all the package's dependencies. You can do this by selecting the\n",
            "'Restart kernel' or 'Restart runtime' option.\n"
          ]
        }
      ]
    },
    {
      "cell_type": "code",
      "source": [
        "import spacy\n",
        "\n",
        "nlp = spacy.load(\"ru_core_news_sm\")"
      ],
      "metadata": {
        "id": "JxOZh22Hw95F"
      },
      "execution_count": null,
      "outputs": []
    },
    {
      "cell_type": "markdown",
      "source": [
        "Создаем словарь айди тегов"
      ],
      "metadata": {
        "id": "zZOX1YqJvS6b"
      }
    },
    {
      "cell_type": "code",
      "source": [
        "spacypostags = [\"ADJ\", \"ADP\", \"ADV\", \"AUX\", \"CONJ\", \"CCONJ\", \"DET\", \"INTJ\", \"NOUN\", \"NUM\", \"PART\", \"PRON\", \"PROPN\", \"PUNCT\", \"SCONJ\", \"SYM\", \"VERB\", \"X\", \"GER\", \"PRTCP\"]\n",
        "pos_ids = {}\n",
        "pos_ids_map = {}\n",
        "for i in range(len(spacypostags)):\n",
        "  pos_ids[i] = spacypostags[i]\n",
        "  pos_ids_map[spacypostags[i]] = i"
      ],
      "metadata": {
        "id": "fIHJ44TYiTDY"
      },
      "execution_count": null,
      "outputs": []
    },
    {
      "cell_type": "markdown",
      "source": [
        "Майстем для спорных случаев"
      ],
      "metadata": {
        "id": "hi_xEuqfvW5L"
      }
    },
    {
      "cell_type": "code",
      "source": [
        "from pymystem3 import Mystem"
      ],
      "metadata": {
        "id": "w5-jY5NHvKKh"
      },
      "execution_count": null,
      "outputs": []
    },
    {
      "cell_type": "code",
      "source": [
        "m = Mystem()"
      ],
      "metadata": {
        "colab": {
          "base_uri": "https://localhost:8080/"
        },
        "id": "UVhSMSocvSCE",
        "outputId": "f5d3764b-2136-4b0f-a96d-81f3f124fb17"
      },
      "execution_count": null,
      "outputs": [
        {
          "output_type": "stream",
          "name": "stderr",
          "text": [
            "Installing mystem to /root/.local/bin/mystem from http://download.cdn.yandex.net/mystem/mystem-3.1-linux-64bit.tar.gz\n"
          ]
        }
      ]
    },
    {
      "cell_type": "markdown",
      "source": [
        "Список имен персонажей для тех случаев, где неправильно определяется лемма"
      ],
      "metadata": {
        "id": "2GKEEIAivbPN"
      }
    },
    {
      "cell_type": "code",
      "source": [
        "char_names = ['крош', 'ёжик', 'ежик', 'нюша', 'бараш', 'пин', 'кар-карыч', 'копатыч', 'лосяш', 'карыч', 'совунья']"
      ],
      "metadata": {
        "id": "Cct9tvm8yNvt"
      },
      "execution_count": null,
      "outputs": []
    },
    {
      "cell_type": "markdown",
      "source": [
        "Теггируем тоены. Знаки препинания кроме разделителей предложений (. ! ? и троеточие) присоединяем к предыдущему токену. Случаи типа \"какой-то\" записываем в один токен, \"туманность-то\" - в два. Иногда неправильно определялись леммы (например, у прилагательного в ж.р. или у имен персонажей в косвенных падежах) - это я стараюсь чинить по правилам, лемматизируя майстемом там, где не справился спейси"
      ],
      "metadata": {
        "id": "xBf4g5WEvgrP"
      }
    },
    {
      "cell_type": "code",
      "source": [
        "def spacy_tagger(to_tag, text_id, char_id):\n",
        "  global pos_ids_map, char_names\n",
        "  toks_info = []\n",
        "  doc_spacy = nlp(to_tag)\n",
        "  tire = False\n",
        "  for i in range(len(doc_spacy)):\n",
        "    if doc_spacy[i].pos_ == 'PUNCT' and doc_spacy[i].text not in '!.?…':\n",
        "      if len(toks_info) != 0:\n",
        "        if len(toks_info[-1]) == 5:\n",
        "          toks_info[-1].append(doc_spacy[i].text)\n",
        "        else:\n",
        "          toks_info[-1][-1] = toks_info[-1][-1] + doc_spacy[i].text\n",
        "    elif doc_spacy[i].pos_ == 'PUNCT' and doc_spacy[i].text in '!.?…':\n",
        "      if len(toks_info) != 0:\n",
        "        if toks_info[-1][2] == 13:\n",
        "          toks_info[-1][0] = toks_info[-1][0] + doc_spacy[i].text\n",
        "          toks_info[-1][1] = toks_info[-1][1] + doc_spacy[i].text\n",
        "        else:\n",
        "          toks_info.append([doc_spacy[i].text, doc_spacy[i].text, 13, text_id, char_id])\n",
        "      else:\n",
        "        toks_info.append([doc_spacy[i].text, doc_spacy[i].text, 13, text_id, char_id])\n",
        "    elif doc_spacy[i].pos_ != 'PUNCT' and doc_spacy[i].text == '-':\n",
        "      tire = True\n",
        "    elif doc_spacy[i].pos_ != 'SPACE':\n",
        "      if tire:\n",
        "        if pos_ids_map[doc_spacy[i].pos_] == toks_info[-1][2]:\n",
        "          toks_info[-1][0] = toks_info[-1][0] + '-' + doc_spacy[i].text\n",
        "          toks_info[-1][1] = toks_info[-1][1] + '-' + doc_spacy[i].lemma_\n",
        "        else:\n",
        "          toks_info.append([doc_spacy[i].text, doc_spacy[i].lemma_, pos_ids_map[doc_spacy[i].pos_], text_id, char_id])\n",
        "        tire = False\n",
        "      else:\n",
        "        thepos = doc_spacy[i].pos_\n",
        "        if thepos == 'VERB':\n",
        "          if 'VerbForm=Conv' in doc_spacy[i].morph:\n",
        "            thepos = 'GER'\n",
        "          elif 'VerbForm=Part' in doc_spacy[i].morph:\n",
        "            thepos = 'PRTCP'\n",
        "        toks_info.append([doc_spacy[i].text, doc_spacy[i].lemma_, pos_ids_map[thepos], text_id, char_id])\n",
        "        if 'Aspect=Imp' in doc_spacy[i].morph and toks_info[-1][0].lower() == toks_info[-1][1]:\n",
        "          toks_info[-1][1] = m.lemmatize(doc_spacy[i].text)[0]\n",
        "        elif toks_info[-1][2] == 12 and 'Case=Nom' not in doc_spacy[i].morph and toks_info[-1][0].lower() == toks_info[-1][1]:\n",
        "          for name in char_names:\n",
        "            if name in toks_info[-1][1] or name[:-1] in toks_info[-1][1]:\n",
        "              toks_info[-1][1] = name\n",
        "              break\n",
        "        elif toks_info[-1][2] == 11 and 'Case=Nom' not in doc_spacy[i].morph and toks_info[-1][0].lower() == toks_info[-1][1]:\n",
        "          toks_info[-1][1] = m.lemmatize(doc_spacy[i].text)[0]\n",
        "        elif toks_info[-1][2] == 0 and toks_info[-1][1][-2:] == 'ая':\n",
        "          toks_info[-1][1] = toks_info[-1][1][:-2] + 'ый'\n",
        "        elif toks_info[-1][2] == 0 and toks_info[-1][1][-2:] == 'яя':\n",
        "          toks_info[-1][1] = toks_info[-1][1][:-2] + 'ий'\n",
        "  return toks_info"
      ],
      "metadata": {
        "id": "AzwcA3dLexRG"
      },
      "execution_count": null,
      "outputs": []
    },
    {
      "cell_type": "markdown",
      "source": [
        "Теггируем"
      ],
      "metadata": {
        "id": "rnJzT3J0wDvn"
      }
    },
    {
      "cell_type": "code",
      "source": [
        "tagged_quotes = []\n",
        "spacy_counter = tqdm(total=len(dialogues), desc='Цитат размечено')\n",
        "for i in range(len(dialogues)):\n",
        "  for j in range(len(dialogues[i])):\n",
        "    tagged_quotes.append(spacy_tagger(dialogues[i][j][0], dialogues[i][j][1], dialogues[i][j][2]))\n",
        "  spacy_counter.update(1)"
      ],
      "metadata": {
        "colab": {
          "base_uri": "https://localhost:8080/",
          "height": 49,
          "referenced_widgets": [
            "c928670b47e644feb562e9419eebf9a6",
            "cb24f85b688c4fa0b86e3071e9736e73",
            "4732563504854752a92eedf639fa7b7c",
            "9b6f3aec82ef4f0d8f0e366012c1f516",
            "7574898d5beb4f21a66b93145d846f4f",
            "ad4f94a5a10844a6826f6c6bc95c9236",
            "ad21e594a25d4d279b064b9f438cb385",
            "f0d3fd1964044425829ef22902df8a30",
            "609cc0a06db942b297a404aa5abd946a",
            "2cefc7c0af7e4278a71277dd5a268bae",
            "e4f055ce937e404b8eb7fac9e13ac640"
          ]
        },
        "id": "ntfHpF9clvtE",
        "outputId": "47568325-e735-48eb-b11d-4fe5ffacedbf"
      },
      "execution_count": null,
      "outputs": [
        {
          "output_type": "display_data",
          "data": {
            "text/plain": [
              "Цитат размечено:   0%|          | 0/1030 [00:00<?, ?it/s]"
            ],
            "application/vnd.jupyter.widget-view+json": {
              "version_major": 2,
              "version_minor": 0,
              "model_id": "c928670b47e644feb562e9419eebf9a6"
            }
          },
          "metadata": {}
        }
      ]
    },
    {
      "cell_type": "markdown",
      "source": [
        "Записываем токены в формате 3грамм"
      ],
      "metadata": {
        "id": "xl5o8Yb2wGSC"
      }
    },
    {
      "cell_type": "code",
      "source": [
        "all_tagged_quotes = []\n",
        "for i in range(len(tagged_quotes)):\n",
        "  for j in range(len(tagged_quotes[i])):\n",
        "    thetoken = []\n",
        "    if j == 0:\n",
        "      thetoken.append([None, None, None, None, None])\n",
        "    elif tagged_quotes[i][j - 1][0] not in '!.?…':\n",
        "      thetoken.append(tagged_quotes[i][j - 1])\n",
        "    else:\n",
        "      thetoken.append([None, None, None, None, None])\n",
        "    thetoken.append(tagged_quotes[i][j])\n",
        "    if j == len(tagged_quotes[i]) - 1:\n",
        "      thetoken.append([None, None, None, None, None])\n",
        "    else:\n",
        "      thetoken.append(tagged_quotes[i][j + 1])\n",
        "    if tagged_quotes[i][j][0] not in '!.?…':\n",
        "      all_tagged_quotes.append(thetoken)"
      ],
      "metadata": {
        "id": "VgkMhXuv4VuN"
      },
      "execution_count": null,
      "outputs": []
    },
    {
      "cell_type": "markdown",
      "source": [
        "Всего 2624 токена"
      ],
      "metadata": {
        "id": "01-rUGJgwKLn"
      }
    },
    {
      "cell_type": "code",
      "source": [
        "len(all_tagged_quotes)"
      ],
      "metadata": {
        "colab": {
          "base_uri": "https://localhost:8080/"
        },
        "id": "fL1iyFGD8xG-",
        "outputId": "0d6795c8-7f58-4a91-cede-9401ced77e17"
      },
      "execution_count": null,
      "outputs": [
        {
          "output_type": "execute_result",
          "data": {
            "text/plain": [
              "24624"
            ]
          },
          "metadata": {},
          "execution_count": 259
        }
      ]
    },
    {
      "cell_type": "markdown",
      "source": [
        "Записываем их"
      ],
      "metadata": {
        "id": "_ec9OSbDwMDC"
      }
    },
    {
      "cell_type": "code",
      "source": [
        "with open('corpus_tagged.txt', 'w') as file:\n",
        "  for i in range(len(all_tagged_quotes)):\n",
        "    for j in range(len(all_tagged_quotes[i])):\n",
        "      file.write('\\t'.join([str(elem) for elem in all_tagged_quotes[i][j]]) + '\\n')\n",
        "    file.write('\\n')"
      ],
      "metadata": {
        "id": "kcfcbeIs892c"
      },
      "execution_count": null,
      "outputs": []
    }
  ]
}